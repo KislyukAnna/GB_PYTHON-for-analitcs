{
 "cells": [
  {
   "cell_type": "markdown",
   "metadata": {},
   "source": [
    "Дан список adv с затратами на рекламу.\n",
    "Но в данных есть ошибки, некоторые затраты имеют отрицательную величину.\n",
    "Удалите такие значения из списка и посчитайте суммарные затраты.\n",
    "Запишите их в переменную x.\n",
    "Используйте list comprehensions.\n",
    "\n",
    "Пример\n",
    "\n",
    "На входе:\n",
    "adv = [100, 125, -90, 345, 655, -1, 0, 200]"
   ]
  },
  {
   "cell_type": "code",
   "execution_count": 4,
   "metadata": {},
   "outputs": [
    {
     "data": {
      "text/plain": [
       "1425"
      ]
     },
     "execution_count": 4,
     "metadata": {},
     "output_type": "execute_result"
    }
   ],
   "source": [
    "adv = [100, 125, -90, 345, 655, -1, 0, 200]\n",
    "x= sum([i if i > 0 else 0 for i in adv])\n",
    "x"
   ]
  },
  {
   "cell_type": "markdown",
   "metadata": {},
   "source": [
    "Задача 2. Склад с фруктами\n",
    "На складе лежат разные фрукты в разном количестве.\n",
    "Нужно написать функцию total_fruits, которая на вход принимает любое количество названий фруктов и их количество, а возвращает общее количество фруктов на складе.\n",
    "\n",
    "можно решить через *kwargs\n",
    "\n",
    "Пример\n",
    "\n",
    "После вашего кода будет добавлена следующая строка:\n",
    "\n",
    "\n",
    "print(total_fruits(apples=10, bananas=5, oranges=8))"
   ]
  },
  {
   "cell_type": "code",
   "execution_count": 5,
   "metadata": {},
   "outputs": [],
   "source": [
    "def total_fruits(**kwargs):\n",
    "    return sum(kwargs.values())\n",
    "\n",
    "print(total_fruits(apples=10, bananas=5, oranges=8))"
   ]
  },
  {
   "cell_type": "markdown",
   "metadata": {},
   "source": [
    "задача 3. Сумма покупок в ноябре\n",
    "\n",
    "Даны два списка: дата покупки dates, суммы покупок по датам income.\n",
    "Найти итоговую сумму всех покупок в ноябре и сохранить ее в переменную x.\n",
    "Используйте list comprehensions.\n",
    "\n",
    "Пример\n",
    "\n",
    "На входе:\n",
    "\n",
    "dates = ['2021-11-01']\n",
    "\n",
    "income = [100]"
   ]
  },
  {
   "cell_type": "code",
   "execution_count": 17,
   "metadata": {},
   "outputs": [
    {
     "data": {
      "text/plain": [
       "435"
      ]
     },
     "execution_count": 17,
     "metadata": {},
     "output_type": "execute_result"
    }
   ],
   "source": [
    "dates = ['2021-11-01','2002-11-05','2013-11-05']\n",
    "income = [100,15,320]\n",
    "\n",
    "dic = {dates[i]: income[i] for i in range(len(dates))}\n",
    "x = sum([v for k,v in dic.items() if k[5:7]=='11'])\n",
    "x"
   ]
  },
  {
   "cell_type": "markdown",
   "metadata": {},
   "source": [
    "Задача 4. Найдите выручку компании\n",
    "\n",
    "Найдите выручку компании в зависимости от месяца Для этого напишите функцию calc_income_by_month(), которая на вход принимает список с датами и список с выручкой, а на выходе словарь, где ключи - это месяцы, а значения - это выручка. Используйте аннотирование типов.\n",
    "\n",
    "Пример\n",
    "На входе:\n",
    "\n",
    "dates = ['2021-11-01']\n",
    "\n",
    "incomes = [100]\n",
    "\n",
    "После вашего кода будет автоматически добавлено:\n",
    "\n",
    "\n",
    "print(calc_income_by_month(dates = ['2021-11-01'], incomes = [100]))\n",
    "На выходе:\n",
    "\n",
    "{'11': 100}"
   ]
  },
  {
   "cell_type": "code",
   "execution_count": 18,
   "metadata": {},
   "outputs": [],
   "source": [
    "# dates = ['2021-11-01']\n",
    "# incomes = [100]\n",
    "\n",
    "def calc_income_by_month(dates: list,incomes: list):\n",
    "    calc = {}\n",
    "    dic = {dates[i]: incomes[i] for i in range(len(dates))}\n",
    "    for k,v in dic.items():\n",
    "        k = k[5:7]\n",
    "        if k in calc:\n",
    "            calc[k] += v\n",
    "        else:\n",
    "            calc[k] = v\n",
    "    \n",
    "    return calc\n",
    "\n",
    "calc_income_by_month(dates = ['2021-11-01','2021-11-02','2021-10-10','2021-10-05'], incomes = [100,200,50,2])"
   ]
  }
 ],
 "metadata": {
  "kernelspec": {
   "display_name": "Python 3",
   "language": "python",
   "name": "python3"
  },
  "language_info": {
   "codemirror_mode": {
    "name": "ipython",
    "version": 3
   },
   "file_extension": ".py",
   "mimetype": "text/x-python",
   "name": "python",
   "nbconvert_exporter": "python",
   "pygments_lexer": "ipython3",
   "version": "3.9.13"
  }
 },
 "nbformat": 4,
 "nbformat_minor": 2
}
